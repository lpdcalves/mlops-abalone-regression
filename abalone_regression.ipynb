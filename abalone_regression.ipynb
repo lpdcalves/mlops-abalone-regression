<<<<<<< HEAD
{
 "cells": [
  {
   "cell_type": "code",
   "execution_count": 3,
   "metadata": {},
   "outputs": [
    {
     "ename": "ModuleNotFoundError",
     "evalue": "No module named 'sklearn'",
     "output_type": "error",
     "traceback": [
      "\u001b[1;31m---------------------------------------------------------------------------\u001b[0m",
      "\u001b[1;31mModuleNotFoundError\u001b[0m                       Traceback (most recent call last)",
      "\u001b[1;32m~\\AppData\\Local\\Temp/ipykernel_45164/3165661774.py\u001b[0m in \u001b[0;36m<module>\u001b[1;34m\u001b[0m\n\u001b[0;32m      4\u001b[0m \u001b[1;33m\u001b[0m\u001b[0m\n\u001b[0;32m      5\u001b[0m \u001b[1;32mimport\u001b[0m \u001b[0mpandas\u001b[0m \u001b[1;32mas\u001b[0m \u001b[0mpd\u001b[0m\u001b[1;33m\u001b[0m\u001b[1;33m\u001b[0m\u001b[0m\n\u001b[1;32m----> 6\u001b[1;33m \u001b[1;32mfrom\u001b[0m \u001b[0msklearn\u001b[0m\u001b[1;33m.\u001b[0m\u001b[0mmodel_selection\u001b[0m \u001b[1;32mimport\u001b[0m \u001b[0mtrain_test_split\u001b[0m\u001b[1;33m\u001b[0m\u001b[1;33m\u001b[0m\u001b[0m\n\u001b[0m\u001b[0;32m      7\u001b[0m \u001b[1;32mfrom\u001b[0m \u001b[0msklearn\u001b[0m\u001b[1;33m.\u001b[0m\u001b[0mlinear_model\u001b[0m \u001b[1;32mimport\u001b[0m \u001b[0mLogisticRegression\u001b[0m\u001b[1;33m\u001b[0m\u001b[1;33m\u001b[0m\u001b[0m\n\u001b[0;32m      8\u001b[0m \u001b[1;32mfrom\u001b[0m \u001b[0msklearn\u001b[0m\u001b[1;33m.\u001b[0m\u001b[0mmetrics\u001b[0m \u001b[1;32mimport\u001b[0m \u001b[0mmean_squared_error\u001b[0m\u001b[1;33m\u001b[0m\u001b[1;33m\u001b[0m\u001b[0m\n",
      "\u001b[1;31mModuleNotFoundError\u001b[0m: No module named 'sklearn'"
     ]
    }
   ],
   "source": [
    "\"\"\"\n",
    "Autores: Ariel da Silva\n",
    "\"\"\"\n",
    "\n",
    "import pandas as pd\n",
    "from sklearn.model_selection import train_test_split\n",
    "from sklearn.linear_model import LogisticRegression\n",
    "from sklearn.metrics import mean_squared_error\n",
    "from sklearn.metrics import r2_score\n"
   ]
  },
  {
   "cell_type": "code",
   "execution_count": null,
   "metadata": {},
   "outputs": [],
   "source": [
    "import sklearn\n",
    "sklearn.__version__"
   ]
  },
  {
   "cell_type": "code",
   "execution_count": 1,
   "metadata": {},
   "outputs": [
    {
     "ename": "NameError",
     "evalue": "name 'pd' is not defined",
     "output_type": "error",
     "traceback": [
      "\u001b[1;31m---------------------------------------------------------------------------\u001b[0m",
      "\u001b[1;31mNameError\u001b[0m                                 Traceback (most recent call last)",
      "\u001b[1;32m~\\AppData\\Local\\Temp/ipykernel_31828/1213750525.py\u001b[0m in \u001b[0;36m<module>\u001b[1;34m\u001b[0m\n\u001b[1;32m----> 1\u001b[1;33m \u001b[0mabalone_dataset\u001b[0m \u001b[1;33m=\u001b[0m \u001b[0mpd\u001b[0m\u001b[1;33m.\u001b[0m\u001b[0mread_csv\u001b[0m\u001b[1;33m(\u001b[0m\u001b[1;34m'abalone.csv'\u001b[0m\u001b[1;33m)\u001b[0m\u001b[1;33m\u001b[0m\u001b[1;33m\u001b[0m\u001b[0m\n\u001b[0m\u001b[0;32m      2\u001b[0m \u001b[0mabalone_dataset\u001b[0m\u001b[1;33m.\u001b[0m\u001b[0mhead\u001b[0m\u001b[1;33m(\u001b[0m\u001b[1;33m)\u001b[0m\u001b[1;33m\u001b[0m\u001b[1;33m\u001b[0m\u001b[0m\n",
      "\u001b[1;31mNameError\u001b[0m: name 'pd' is not defined"
     ]
    }
   ],
   "source": [
    "abalone_dataset = pd.read_csv('abalone.csv')\n",
    "abalone_dataset.head()"
   ]
  },
  {
   "cell_type": "code",
   "execution_count": 5,
   "metadata": {},
   "outputs": [
    {
     "data": {
      "text/html": [
       "<div>\n",
       "<style scoped>\n",
       "    .dataframe tbody tr th:only-of-type {\n",
       "        vertical-align: middle;\n",
       "    }\n",
       "\n",
       "    .dataframe tbody tr th {\n",
       "        vertical-align: top;\n",
       "    }\n",
       "\n",
       "    .dataframe thead th {\n",
       "        text-align: right;\n",
       "    }\n",
       "</style>\n",
       "<table border=\"1\" class=\"dataframe\">\n",
       "  <thead>\n",
       "    <tr style=\"text-align: right;\">\n",
       "      <th></th>\n",
       "      <th>Sex</th>\n",
       "      <th>Length</th>\n",
       "      <th>Diameter</th>\n",
       "      <th>Height</th>\n",
       "      <th>Whole weight</th>\n",
       "      <th>Shucked weight</th>\n",
       "      <th>Viscera weight</th>\n",
       "      <th>Shell weight</th>\n",
       "      <th>Rings</th>\n",
       "      <th>idade</th>\n",
       "    </tr>\n",
       "  </thead>\n",
       "  <tbody>\n",
       "    <tr>\n",
       "      <th>0</th>\n",
       "      <td>M</td>\n",
       "      <td>0.455</td>\n",
       "      <td>0.365</td>\n",
       "      <td>0.095</td>\n",
       "      <td>0.5140</td>\n",
       "      <td>0.2245</td>\n",
       "      <td>0.1010</td>\n",
       "      <td>0.150</td>\n",
       "      <td>15</td>\n",
       "      <td>16.5</td>\n",
       "    </tr>\n",
       "    <tr>\n",
       "      <th>1</th>\n",
       "      <td>M</td>\n",
       "      <td>0.350</td>\n",
       "      <td>0.265</td>\n",
       "      <td>0.090</td>\n",
       "      <td>0.2255</td>\n",
       "      <td>0.0995</td>\n",
       "      <td>0.0485</td>\n",
       "      <td>0.070</td>\n",
       "      <td>7</td>\n",
       "      <td>8.5</td>\n",
       "    </tr>\n",
       "    <tr>\n",
       "      <th>2</th>\n",
       "      <td>F</td>\n",
       "      <td>0.530</td>\n",
       "      <td>0.420</td>\n",
       "      <td>0.135</td>\n",
       "      <td>0.6770</td>\n",
       "      <td>0.2565</td>\n",
       "      <td>0.1415</td>\n",
       "      <td>0.210</td>\n",
       "      <td>9</td>\n",
       "      <td>10.5</td>\n",
       "    </tr>\n",
       "    <tr>\n",
       "      <th>3</th>\n",
       "      <td>M</td>\n",
       "      <td>0.440</td>\n",
       "      <td>0.365</td>\n",
       "      <td>0.125</td>\n",
       "      <td>0.5160</td>\n",
       "      <td>0.2155</td>\n",
       "      <td>0.1140</td>\n",
       "      <td>0.155</td>\n",
       "      <td>10</td>\n",
       "      <td>11.5</td>\n",
       "    </tr>\n",
       "    <tr>\n",
       "      <th>4</th>\n",
       "      <td>I</td>\n",
       "      <td>0.330</td>\n",
       "      <td>0.255</td>\n",
       "      <td>0.080</td>\n",
       "      <td>0.2050</td>\n",
       "      <td>0.0895</td>\n",
       "      <td>0.0395</td>\n",
       "      <td>0.055</td>\n",
       "      <td>7</td>\n",
       "      <td>8.5</td>\n",
       "    </tr>\n",
       "  </tbody>\n",
       "</table>\n",
       "</div>"
      ],
      "text/plain": [
       "  Sex  Length  Diameter  Height  Whole weight  Shucked weight  Viscera weight  \\\n",
       "0   M   0.455     0.365   0.095        0.5140          0.2245          0.1010   \n",
       "1   M   0.350     0.265   0.090        0.2255          0.0995          0.0485   \n",
       "2   F   0.530     0.420   0.135        0.6770          0.2565          0.1415   \n",
       "3   M   0.440     0.365   0.125        0.5160          0.2155          0.1140   \n",
       "4   I   0.330     0.255   0.080        0.2050          0.0895          0.0395   \n",
       "\n",
       "   Shell weight  Rings  idade  \n",
       "0         0.150     15   16.5  \n",
       "1         0.070      7    8.5  \n",
       "2         0.210      9   10.5  \n",
       "3         0.155     10   11.5  \n",
       "4         0.055      7    8.5  "
      ]
     },
     "execution_count": 5,
     "metadata": {},
     "output_type": "execute_result"
    }
   ],
   "source": [
    "abalone_dataset['Idade'] = abalone_dataset['Rings'].apply(lambda x: x +1.5\n",
    ")\n",
    "a# balone_dataset[''Iade'] = abalone_dataset[''Idade'.astype(float)\n",
    "abalone_dataset.head()"
   ]
  },
  {
   "cell_type": "code",
   "execution_count": null,
   "metadata": {},
   "outputs": [],
   "source": []
  }
 ],
 "metadata": {
  "interpreter": {
   "hash": "7d4ef9798f9094391790de21885ba75809f109cc27777bee7300b5e6e63901f9"
  },
  "kernelspec": {
   "display_name": "Python 3.8.12 64-bit ('mlops': conda)",
   "language": "python",
   "name": "python3"
  },
  "language_info": {
   "codemirror_mode": {
    "name": "ipython",
    "version": 3
   },
   "file_extension": ".py",
   "mimetype": "text/x-python",
   "name": "python",
   "nbconvert_exporter": "python",
   "pygments_lexer": "ipython3",
   "version": "3.9.5"
  },
  "orig_nbformat": 4
 },
 "nbformat": 4,
 "nbformat_minor": 2
}
=======
{
 "cells": [
  {
   "cell_type": "code",
   "execution_count": 1,
   "metadata": {},
   "outputs": [],
   "source": [
    "\"\"\"\n",
    "Autores: Ariel da Silva\n",
    "\"\"\"\n",
    "import numpy as np\n",
    "import pandas as pd\n",
    "import seaborn as sns\n",
    "import matplotlib.pyplot as plt\n",
    "\n",
    "from sklearn.preprocessing import StandardScaler\n",
    "from sklearn.linear_model import LogisticRegression\n",
    "from sklearn.model_selection import train_test_split\n",
    "\n",
    "from sklearn.ensemble import GradientBoostingRegressor\n",
    "from sklearn.metrics import classification_report\n",
    "from sklearn.metrics import mean_squared_error"
   ]
  },
  {
   "cell_type": "code",
   "execution_count": 2,
   "metadata": {},
   "outputs": [
    {
     "data": {
      "text/html": [
       "<div>\n",
       "<style scoped>\n",
       "    .dataframe tbody tr th:only-of-type {\n",
       "        vertical-align: middle;\n",
       "    }\n",
       "\n",
       "    .dataframe tbody tr th {\n",
       "        vertical-align: top;\n",
       "    }\n",
       "\n",
       "    .dataframe thead th {\n",
       "        text-align: right;\n",
       "    }\n",
       "</style>\n",
       "<table border=\"1\" class=\"dataframe\">\n",
       "  <thead>\n",
       "    <tr style=\"text-align: right;\">\n",
       "      <th></th>\n",
       "      <th>Sex</th>\n",
       "      <th>Length</th>\n",
       "      <th>Diameter</th>\n",
       "      <th>Height</th>\n",
       "      <th>Whole weight</th>\n",
       "      <th>Shucked weight</th>\n",
       "      <th>Viscera weight</th>\n",
       "      <th>Shell weight</th>\n",
       "      <th>Rings</th>\n",
       "    </tr>\n",
       "  </thead>\n",
       "  <tbody>\n",
       "    <tr>\n",
       "      <th>0</th>\n",
       "      <td>M</td>\n",
       "      <td>0.455</td>\n",
       "      <td>0.365</td>\n",
       "      <td>0.095</td>\n",
       "      <td>0.5140</td>\n",
       "      <td>0.2245</td>\n",
       "      <td>0.1010</td>\n",
       "      <td>0.150</td>\n",
       "      <td>15</td>\n",
       "    </tr>\n",
       "    <tr>\n",
       "      <th>1</th>\n",
       "      <td>M</td>\n",
       "      <td>0.350</td>\n",
       "      <td>0.265</td>\n",
       "      <td>0.090</td>\n",
       "      <td>0.2255</td>\n",
       "      <td>0.0995</td>\n",
       "      <td>0.0485</td>\n",
       "      <td>0.070</td>\n",
       "      <td>7</td>\n",
       "    </tr>\n",
       "    <tr>\n",
       "      <th>2</th>\n",
       "      <td>F</td>\n",
       "      <td>0.530</td>\n",
       "      <td>0.420</td>\n",
       "      <td>0.135</td>\n",
       "      <td>0.6770</td>\n",
       "      <td>0.2565</td>\n",
       "      <td>0.1415</td>\n",
       "      <td>0.210</td>\n",
       "      <td>9</td>\n",
       "    </tr>\n",
       "    <tr>\n",
       "      <th>3</th>\n",
       "      <td>M</td>\n",
       "      <td>0.440</td>\n",
       "      <td>0.365</td>\n",
       "      <td>0.125</td>\n",
       "      <td>0.5160</td>\n",
       "      <td>0.2155</td>\n",
       "      <td>0.1140</td>\n",
       "      <td>0.155</td>\n",
       "      <td>10</td>\n",
       "    </tr>\n",
       "    <tr>\n",
       "      <th>4</th>\n",
       "      <td>I</td>\n",
       "      <td>0.330</td>\n",
       "      <td>0.255</td>\n",
       "      <td>0.080</td>\n",
       "      <td>0.2050</td>\n",
       "      <td>0.0895</td>\n",
       "      <td>0.0395</td>\n",
       "      <td>0.055</td>\n",
       "      <td>7</td>\n",
       "    </tr>\n",
       "  </tbody>\n",
       "</table>\n",
       "</div>"
      ],
      "text/plain": [
       "  Sex  Length  Diameter  Height  Whole weight  Shucked weight  Viscera weight  \\\n",
       "0   M   0.455     0.365   0.095        0.5140          0.2245          0.1010   \n",
       "1   M   0.350     0.265   0.090        0.2255          0.0995          0.0485   \n",
       "2   F   0.530     0.420   0.135        0.6770          0.2565          0.1415   \n",
       "3   M   0.440     0.365   0.125        0.5160          0.2155          0.1140   \n",
       "4   I   0.330     0.255   0.080        0.2050          0.0895          0.0395   \n",
       "\n",
       "   Shell weight  Rings  \n",
       "0         0.150     15  \n",
       "1         0.070      7  \n",
       "2         0.210      9  \n",
       "3         0.155     10  \n",
       "4         0.055      7  "
      ]
     },
     "execution_count": 2,
     "metadata": {},
     "output_type": "execute_result"
    }
   ],
   "source": [
    "abalone_dataset = pd.read_csv('archive/abalone.csv')\n",
    "abalone_dataset.head()"
   ]
  },
  {
   "cell_type": "code",
   "execution_count": 3,
   "metadata": {},
   "outputs": [
    {
     "data": {
      "text/html": [
       "<div>\n",
       "<style scoped>\n",
       "    .dataframe tbody tr th:only-of-type {\n",
       "        vertical-align: middle;\n",
       "    }\n",
       "\n",
       "    .dataframe tbody tr th {\n",
       "        vertical-align: top;\n",
       "    }\n",
       "\n",
       "    .dataframe thead th {\n",
       "        text-align: right;\n",
       "    }\n",
       "</style>\n",
       "<table border=\"1\" class=\"dataframe\">\n",
       "  <thead>\n",
       "    <tr style=\"text-align: right;\">\n",
       "      <th></th>\n",
       "      <th>Sex</th>\n",
       "      <th>Length</th>\n",
       "      <th>Diameter</th>\n",
       "      <th>Height</th>\n",
       "      <th>Whole weight</th>\n",
       "      <th>Shucked weight</th>\n",
       "      <th>Viscera weight</th>\n",
       "      <th>Shell weight</th>\n",
       "      <th>Age</th>\n",
       "    </tr>\n",
       "  </thead>\n",
       "  <tbody>\n",
       "    <tr>\n",
       "      <th>0</th>\n",
       "      <td>M</td>\n",
       "      <td>0.455</td>\n",
       "      <td>0.365</td>\n",
       "      <td>0.095</td>\n",
       "      <td>0.5140</td>\n",
       "      <td>0.2245</td>\n",
       "      <td>0.1010</td>\n",
       "      <td>0.150</td>\n",
       "      <td>16.5</td>\n",
       "    </tr>\n",
       "    <tr>\n",
       "      <th>1</th>\n",
       "      <td>M</td>\n",
       "      <td>0.350</td>\n",
       "      <td>0.265</td>\n",
       "      <td>0.090</td>\n",
       "      <td>0.2255</td>\n",
       "      <td>0.0995</td>\n",
       "      <td>0.0485</td>\n",
       "      <td>0.070</td>\n",
       "      <td>8.5</td>\n",
       "    </tr>\n",
       "    <tr>\n",
       "      <th>2</th>\n",
       "      <td>F</td>\n",
       "      <td>0.530</td>\n",
       "      <td>0.420</td>\n",
       "      <td>0.135</td>\n",
       "      <td>0.6770</td>\n",
       "      <td>0.2565</td>\n",
       "      <td>0.1415</td>\n",
       "      <td>0.210</td>\n",
       "      <td>10.5</td>\n",
       "    </tr>\n",
       "    <tr>\n",
       "      <th>3</th>\n",
       "      <td>M</td>\n",
       "      <td>0.440</td>\n",
       "      <td>0.365</td>\n",
       "      <td>0.125</td>\n",
       "      <td>0.5160</td>\n",
       "      <td>0.2155</td>\n",
       "      <td>0.1140</td>\n",
       "      <td>0.155</td>\n",
       "      <td>11.5</td>\n",
       "    </tr>\n",
       "    <tr>\n",
       "      <th>4</th>\n",
       "      <td>I</td>\n",
       "      <td>0.330</td>\n",
       "      <td>0.255</td>\n",
       "      <td>0.080</td>\n",
       "      <td>0.2050</td>\n",
       "      <td>0.0895</td>\n",
       "      <td>0.0395</td>\n",
       "      <td>0.055</td>\n",
       "      <td>8.5</td>\n",
       "    </tr>\n",
       "  </tbody>\n",
       "</table>\n",
       "</div>"
      ],
      "text/plain": [
       "  Sex  Length  Diameter  Height  Whole weight  Shucked weight  Viscera weight  \\\n",
       "0   M   0.455     0.365   0.095        0.5140          0.2245          0.1010   \n",
       "1   M   0.350     0.265   0.090        0.2255          0.0995          0.0485   \n",
       "2   F   0.530     0.420   0.135        0.6770          0.2565          0.1415   \n",
       "3   M   0.440     0.365   0.125        0.5160          0.2155          0.1140   \n",
       "4   I   0.330     0.255   0.080        0.2050          0.0895          0.0395   \n",
       "\n",
       "   Shell weight   Age  \n",
       "0         0.150  16.5  \n",
       "1         0.070   8.5  \n",
       "2         0.210  10.5  \n",
       "3         0.155  11.5  \n",
       "4         0.055   8.5  "
      ]
     },
     "execution_count": 3,
     "metadata": {},
     "output_type": "execute_result"
    }
   ],
   "source": [
    "abalone_dataset['Age'] = abalone_dataset['Rings'].apply(lambda x: x + 1.5)\n",
    "abalone_dataset.drop('Rings', axis = 1, inplace = True)\n",
    "abalone_dataset.head()"
   ]
  },
  {
   "cell_type": "code",
   "execution_count": 4,
   "metadata": {},
   "outputs": [
    {
     "data": {
      "text/html": [
       "<div>\n",
       "<style scoped>\n",
       "    .dataframe tbody tr th:only-of-type {\n",
       "        vertical-align: middle;\n",
       "    }\n",
       "\n",
       "    .dataframe tbody tr th {\n",
       "        vertical-align: top;\n",
       "    }\n",
       "\n",
       "    .dataframe thead th {\n",
       "        text-align: right;\n",
       "    }\n",
       "</style>\n",
       "<table border=\"1\" class=\"dataframe\">\n",
       "  <thead>\n",
       "    <tr style=\"text-align: right;\">\n",
       "      <th></th>\n",
       "      <th>Sex</th>\n",
       "      <th>Length</th>\n",
       "      <th>Diameter</th>\n",
       "      <th>Height</th>\n",
       "      <th>Whole weight</th>\n",
       "      <th>Shucked weight</th>\n",
       "      <th>Viscera weight</th>\n",
       "      <th>Shell weight</th>\n",
       "      <th>Age</th>\n",
       "    </tr>\n",
       "  </thead>\n",
       "  <tbody>\n",
       "    <tr>\n",
       "      <th>0</th>\n",
       "      <td>M</td>\n",
       "      <td>0.455</td>\n",
       "      <td>0.365</td>\n",
       "      <td>0.095</td>\n",
       "      <td>0.5140</td>\n",
       "      <td>0.2245</td>\n",
       "      <td>0.1010</td>\n",
       "      <td>0.150</td>\n",
       "      <td>16.5</td>\n",
       "    </tr>\n",
       "    <tr>\n",
       "      <th>1</th>\n",
       "      <td>M</td>\n",
       "      <td>0.350</td>\n",
       "      <td>0.265</td>\n",
       "      <td>0.090</td>\n",
       "      <td>0.2255</td>\n",
       "      <td>0.0995</td>\n",
       "      <td>0.0485</td>\n",
       "      <td>0.070</td>\n",
       "      <td>8.5</td>\n",
       "    </tr>\n",
       "    <tr>\n",
       "      <th>2</th>\n",
       "      <td>F</td>\n",
       "      <td>0.530</td>\n",
       "      <td>0.420</td>\n",
       "      <td>0.135</td>\n",
       "      <td>0.6770</td>\n",
       "      <td>0.2565</td>\n",
       "      <td>0.1415</td>\n",
       "      <td>0.210</td>\n",
       "      <td>10.5</td>\n",
       "    </tr>\n",
       "    <tr>\n",
       "      <th>3</th>\n",
       "      <td>M</td>\n",
       "      <td>0.440</td>\n",
       "      <td>0.365</td>\n",
       "      <td>0.125</td>\n",
       "      <td>0.5160</td>\n",
       "      <td>0.2155</td>\n",
       "      <td>0.1140</td>\n",
       "      <td>0.155</td>\n",
       "      <td>11.5</td>\n",
       "    </tr>\n",
       "    <tr>\n",
       "      <th>4</th>\n",
       "      <td>I</td>\n",
       "      <td>0.330</td>\n",
       "      <td>0.255</td>\n",
       "      <td>0.080</td>\n",
       "      <td>0.2050</td>\n",
       "      <td>0.0895</td>\n",
       "      <td>0.0395</td>\n",
       "      <td>0.055</td>\n",
       "      <td>8.5</td>\n",
       "    </tr>\n",
       "  </tbody>\n",
       "</table>\n",
       "</div>"
      ],
      "text/plain": [
       "  Sex  Length  Diameter  Height  Whole weight  Shucked weight  Viscera weight  \\\n",
       "0   M   0.455     0.365   0.095        0.5140          0.2245          0.1010   \n",
       "1   M   0.350     0.265   0.090        0.2255          0.0995          0.0485   \n",
       "2   F   0.530     0.420   0.135        0.6770          0.2565          0.1415   \n",
       "3   M   0.440     0.365   0.125        0.5160          0.2155          0.1140   \n",
       "4   I   0.330     0.255   0.080        0.2050          0.0895          0.0395   \n",
       "\n",
       "   Shell weight   Age  \n",
       "0         0.150  16.5  \n",
       "1         0.070   8.5  \n",
       "2         0.210  10.5  \n",
       "3         0.155  11.5  \n",
       "4         0.055   8.5  "
      ]
     },
     "execution_count": 4,
     "metadata": {},
     "output_type": "execute_result"
    }
   ],
   "source": [
    "abalone_dataset = abalone_dataset[abalone_dataset['Height'] != 0]  # need to drop these rows.\n",
    "abalone_dataset.head()"
   ]
  },
  {
   "cell_type": "code",
   "execution_count": 5,
   "metadata": {},
   "outputs": [
    {
     "data": {
      "image/png": "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",
      "text/plain": [
       "<Figure size 576x432 with 1 Axes>"
      ]
     },
     "metadata": {
      "needs_background": "light"
     },
     "output_type": "display_data"
    }
   ],
   "source": [
    "#categorical features\n",
    "temp = pd.concat([abalone_dataset['Age'], abalone_dataset['Sex']], axis=1)\n",
    "\n",
    "f, ax = plt.subplots(figsize=(8, 6))\n",
    "fig = sns.boxenplot(x='Sex', y=\"Age\", data=abalone_dataset)\n",
    "fig.axis(ymin=0, ymax=30);"
   ]
  },
  {
   "cell_type": "code",
   "execution_count": 6,
   "metadata": {},
   "outputs": [
    {
     "name": "stderr",
     "output_type": "stream",
     "text": [
      "/home/alsinaariel/anaconda3/envs/mlops/lib/python3.8/site-packages/seaborn/_decorators.py:36: FutureWarning: Pass the following variable as a keyword arg: x. From version 0.12, the only valid positional argument will be `data`, and passing other arguments without an explicit keyword will result in an error or misinterpretation.\n",
      "  warnings.warn(\n"
     ]
    },
    {
     "data": {
      "image/png": "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",
      "text/plain": [
       "<Figure size 432x288 with 1 Axes>"
      ]
     },
     "metadata": {
      "needs_background": "light"
     },
     "output_type": "display_data"
    }
   ],
   "source": [
    "sns.countplot('Sex', data=abalone_dataset)\n",
    "plt.title('Distributed Classes', fontsize=14)\n",
    "plt.show()"
   ]
  },
  {
   "cell_type": "code",
   "execution_count": 7,
   "metadata": {},
   "outputs": [
    {
     "data": {
      "image/png": "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",
      "text/plain": [
       "<Figure size 720x720 with 2 Axes>"
      ]
     },
     "metadata": {
      "needs_background": "light"
     },
     "output_type": "display_data"
    }
   ],
   "source": [
    "corr = abalone_dataset.corr()\n",
    "plt.figure(figsize = (10,10))\n",
    "ax = sns.heatmap(corr, vmin = -1, center = 0, annot = True, cmap = 'mako')"
   ]
  },
  {
   "cell_type": "code",
   "execution_count": 8,
   "metadata": {},
   "outputs": [
    {
     "data": {
      "text/html": [
       "<div>\n",
       "<style scoped>\n",
       "    .dataframe tbody tr th:only-of-type {\n",
       "        vertical-align: middle;\n",
       "    }\n",
       "\n",
       "    .dataframe tbody tr th {\n",
       "        vertical-align: top;\n",
       "    }\n",
       "\n",
       "    .dataframe thead th {\n",
       "        text-align: right;\n",
       "    }\n",
       "</style>\n",
       "<table border=\"1\" class=\"dataframe\">\n",
       "  <thead>\n",
       "    <tr style=\"text-align: right;\">\n",
       "      <th></th>\n",
       "      <th>Sex</th>\n",
       "      <th>Length</th>\n",
       "      <th>Diameter</th>\n",
       "      <th>Height</th>\n",
       "      <th>Whole weight</th>\n",
       "      <th>Shucked weight</th>\n",
       "      <th>Viscera weight</th>\n",
       "      <th>Shell weight</th>\n",
       "      <th>Age</th>\n",
       "    </tr>\n",
       "  </thead>\n",
       "  <tbody>\n",
       "    <tr>\n",
       "      <th>0</th>\n",
       "      <td>M</td>\n",
       "      <td>0.455</td>\n",
       "      <td>0.365</td>\n",
       "      <td>0.095</td>\n",
       "      <td>0.5140</td>\n",
       "      <td>0.2245</td>\n",
       "      <td>0.1010</td>\n",
       "      <td>0.150</td>\n",
       "      <td>16.5</td>\n",
       "    </tr>\n",
       "    <tr>\n",
       "      <th>1</th>\n",
       "      <td>M</td>\n",
       "      <td>0.350</td>\n",
       "      <td>0.265</td>\n",
       "      <td>0.090</td>\n",
       "      <td>0.2255</td>\n",
       "      <td>0.0995</td>\n",
       "      <td>0.0485</td>\n",
       "      <td>0.070</td>\n",
       "      <td>8.5</td>\n",
       "    </tr>\n",
       "    <tr>\n",
       "      <th>2</th>\n",
       "      <td>F</td>\n",
       "      <td>0.530</td>\n",
       "      <td>0.420</td>\n",
       "      <td>0.135</td>\n",
       "      <td>0.6770</td>\n",
       "      <td>0.2565</td>\n",
       "      <td>0.1415</td>\n",
       "      <td>0.210</td>\n",
       "      <td>10.5</td>\n",
       "    </tr>\n",
       "    <tr>\n",
       "      <th>3</th>\n",
       "      <td>M</td>\n",
       "      <td>0.440</td>\n",
       "      <td>0.365</td>\n",
       "      <td>0.125</td>\n",
       "      <td>0.5160</td>\n",
       "      <td>0.2155</td>\n",
       "      <td>0.1140</td>\n",
       "      <td>0.155</td>\n",
       "      <td>11.5</td>\n",
       "    </tr>\n",
       "    <tr>\n",
       "      <th>4</th>\n",
       "      <td>I</td>\n",
       "      <td>0.330</td>\n",
       "      <td>0.255</td>\n",
       "      <td>0.080</td>\n",
       "      <td>0.2050</td>\n",
       "      <td>0.0895</td>\n",
       "      <td>0.0395</td>\n",
       "      <td>0.055</td>\n",
       "      <td>8.5</td>\n",
       "    </tr>\n",
       "  </tbody>\n",
       "</table>\n",
       "</div>"
      ],
      "text/plain": [
       "  Sex  Length  Diameter  Height  Whole weight  Shucked weight  Viscera weight  \\\n",
       "0   M   0.455     0.365   0.095        0.5140          0.2245          0.1010   \n",
       "1   M   0.350     0.265   0.090        0.2255          0.0995          0.0485   \n",
       "2   F   0.530     0.420   0.135        0.6770          0.2565          0.1415   \n",
       "3   M   0.440     0.365   0.125        0.5160          0.2155          0.1140   \n",
       "4   I   0.330     0.255   0.080        0.2050          0.0895          0.0395   \n",
       "\n",
       "   Shell weight   Age  \n",
       "0         0.150  16.5  \n",
       "1         0.070   8.5  \n",
       "2         0.210  10.5  \n",
       "3         0.155  11.5  \n",
       "4         0.055   8.5  "
      ]
     },
     "execution_count": 8,
     "metadata": {},
     "output_type": "execute_result"
    }
   ],
   "source": [
    "abalone_dataset.head()"
   ]
  },
  {
   "cell_type": "code",
   "execution_count": 9,
   "metadata": {},
   "outputs": [
    {
     "data": {
      "text/plain": [
       "array([[<AxesSubplot:title={'center':'Length'}>,\n",
       "        <AxesSubplot:title={'center':'Diameter'}>,\n",
       "        <AxesSubplot:title={'center':'Height'}>],\n",
       "       [<AxesSubplot:title={'center':'Whole weight'}>,\n",
       "        <AxesSubplot:title={'center':'Shucked weight'}>,\n",
       "        <AxesSubplot:title={'center':'Viscera weight'}>],\n",
       "       [<AxesSubplot:title={'center':'Shell weight'}>,\n",
       "        <AxesSubplot:title={'center':'Age'}>, <AxesSubplot:>]],\n",
       "      dtype=object)"
      ]
     },
     "execution_count": 9,
     "metadata": {},
     "output_type": "execute_result"
    },
    {
     "data": {
      "image/png": "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",
      "text/plain": [
       "<Figure size 1440x720 with 9 Axes>"
      ]
     },
     "metadata": {
      "needs_background": "light"
     },
     "output_type": "display_data"
    }
   ],
   "source": [
    "abalone_dataset.hist(figsize=(20, 10))"
   ]
  },
  {
   "cell_type": "code",
   "execution_count": 10,
   "metadata": {},
   "outputs": [
    {
     "data": {
      "text/plain": [
       "Height            3.166364\n",
       "Age               1.113754\n",
       "Shucked weight    0.718735\n",
       "Shell weight      0.621081\n",
       "Viscera weight    0.591455\n",
       "Whole weight      0.530549\n",
       "Diameter         -0.610182\n",
       "Length           -0.640993\n",
       "dtype: float64"
      ]
     },
     "execution_count": 10,
     "metadata": {},
     "output_type": "execute_result"
    }
   ],
   "source": [
    "abalone_dataset.skew().sort_values(ascending = False)"
   ]
  },
  {
   "cell_type": "code",
   "execution_count": 11,
   "metadata": {},
   "outputs": [],
   "source": [
    "upper_tri = corr.where(np.triu(np.ones(corr.shape), k=1).astype(bool))\n",
    "columns_to_drop = [column for column in upper_tri.columns if any(upper_tri[column] > 0.95)]"
   ]
  },
  {
   "cell_type": "code",
   "execution_count": 12,
   "metadata": {},
   "outputs": [
    {
     "name": "stdout",
     "output_type": "stream",
     "text": [
      "Columns to drop:\n",
      " ['Diameter', 'Shucked weight', 'Viscera weight', 'Shell weight']\n"
     ]
    }
   ],
   "source": [
    "print(\"Columns to drop:\\n\", columns_to_drop)"
   ]
  },
  {
   "cell_type": "code",
   "execution_count": 13,
   "metadata": {},
   "outputs": [],
   "source": [
    "abalone_dataset.drop(columns_to_drop, axis=1, inplace=True)"
   ]
  },
  {
   "cell_type": "code",
   "execution_count": 14,
   "metadata": {},
   "outputs": [
    {
     "data": {
      "text/html": [
       "<div>\n",
       "<style scoped>\n",
       "    .dataframe tbody tr th:only-of-type {\n",
       "        vertical-align: middle;\n",
       "    }\n",
       "\n",
       "    .dataframe tbody tr th {\n",
       "        vertical-align: top;\n",
       "    }\n",
       "\n",
       "    .dataframe thead th {\n",
       "        text-align: right;\n",
       "    }\n",
       "</style>\n",
       "<table border=\"1\" class=\"dataframe\">\n",
       "  <thead>\n",
       "    <tr style=\"text-align: right;\">\n",
       "      <th></th>\n",
       "      <th>Sex</th>\n",
       "      <th>Length</th>\n",
       "      <th>Height</th>\n",
       "      <th>Whole weight</th>\n",
       "      <th>Age</th>\n",
       "    </tr>\n",
       "  </thead>\n",
       "  <tbody>\n",
       "    <tr>\n",
       "      <th>0</th>\n",
       "      <td>M</td>\n",
       "      <td>0.455</td>\n",
       "      <td>0.095</td>\n",
       "      <td>0.5140</td>\n",
       "      <td>16.5</td>\n",
       "    </tr>\n",
       "    <tr>\n",
       "      <th>1</th>\n",
       "      <td>M</td>\n",
       "      <td>0.350</td>\n",
       "      <td>0.090</td>\n",
       "      <td>0.2255</td>\n",
       "      <td>8.5</td>\n",
       "    </tr>\n",
       "    <tr>\n",
       "      <th>2</th>\n",
       "      <td>F</td>\n",
       "      <td>0.530</td>\n",
       "      <td>0.135</td>\n",
       "      <td>0.6770</td>\n",
       "      <td>10.5</td>\n",
       "    </tr>\n",
       "    <tr>\n",
       "      <th>3</th>\n",
       "      <td>M</td>\n",
       "      <td>0.440</td>\n",
       "      <td>0.125</td>\n",
       "      <td>0.5160</td>\n",
       "      <td>11.5</td>\n",
       "    </tr>\n",
       "    <tr>\n",
       "      <th>4</th>\n",
       "      <td>I</td>\n",
       "      <td>0.330</td>\n",
       "      <td>0.080</td>\n",
       "      <td>0.2050</td>\n",
       "      <td>8.5</td>\n",
       "    </tr>\n",
       "  </tbody>\n",
       "</table>\n",
       "</div>"
      ],
      "text/plain": [
       "  Sex  Length  Height  Whole weight   Age\n",
       "0   M   0.455   0.095        0.5140  16.5\n",
       "1   M   0.350   0.090        0.2255   8.5\n",
       "2   F   0.530   0.135        0.6770  10.5\n",
       "3   M   0.440   0.125        0.5160  11.5\n",
       "4   I   0.330   0.080        0.2050   8.5"
      ]
     },
     "execution_count": 14,
     "metadata": {},
     "output_type": "execute_result"
    }
   ],
   "source": [
    "abalone_dataset.head()"
   ]
  },
  {
   "cell_type": "code",
   "execution_count": 15,
   "metadata": {},
   "outputs": [
    {
     "data": {
      "text/html": [
       "<div>\n",
       "<style scoped>\n",
       "    .dataframe tbody tr th:only-of-type {\n",
       "        vertical-align: middle;\n",
       "    }\n",
       "\n",
       "    .dataframe tbody tr th {\n",
       "        vertical-align: top;\n",
       "    }\n",
       "\n",
       "    .dataframe thead th {\n",
       "        text-align: right;\n",
       "    }\n",
       "</style>\n",
       "<table border=\"1\" class=\"dataframe\">\n",
       "  <thead>\n",
       "    <tr style=\"text-align: right;\">\n",
       "      <th></th>\n",
       "      <th>Sex</th>\n",
       "      <th>Length</th>\n",
       "      <th>Height</th>\n",
       "      <th>Whole weight</th>\n",
       "      <th>Age</th>\n",
       "    </tr>\n",
       "  </thead>\n",
       "  <tbody>\n",
       "    <tr>\n",
       "      <th>0</th>\n",
       "      <td>M</td>\n",
       "      <td>0.455</td>\n",
       "      <td>0.308221</td>\n",
       "      <td>0.5140</td>\n",
       "      <td>16.5</td>\n",
       "    </tr>\n",
       "    <tr>\n",
       "      <th>1</th>\n",
       "      <td>M</td>\n",
       "      <td>0.350</td>\n",
       "      <td>0.300000</td>\n",
       "      <td>0.2255</td>\n",
       "      <td>8.5</td>\n",
       "    </tr>\n",
       "    <tr>\n",
       "      <th>2</th>\n",
       "      <td>F</td>\n",
       "      <td>0.530</td>\n",
       "      <td>0.367423</td>\n",
       "      <td>0.6770</td>\n",
       "      <td>10.5</td>\n",
       "    </tr>\n",
       "    <tr>\n",
       "      <th>3</th>\n",
       "      <td>M</td>\n",
       "      <td>0.440</td>\n",
       "      <td>0.353553</td>\n",
       "      <td>0.5160</td>\n",
       "      <td>11.5</td>\n",
       "    </tr>\n",
       "    <tr>\n",
       "      <th>4</th>\n",
       "      <td>I</td>\n",
       "      <td>0.330</td>\n",
       "      <td>0.282843</td>\n",
       "      <td>0.2050</td>\n",
       "      <td>8.5</td>\n",
       "    </tr>\n",
       "  </tbody>\n",
       "</table>\n",
       "</div>"
      ],
      "text/plain": [
       "  Sex  Length    Height  Whole weight   Age\n",
       "0   M   0.455  0.308221        0.5140  16.5\n",
       "1   M   0.350  0.300000        0.2255   8.5\n",
       "2   F   0.530  0.367423        0.6770  10.5\n",
       "3   M   0.440  0.353553        0.5160  11.5\n",
       "4   I   0.330  0.282843        0.2050   8.5"
      ]
     },
     "execution_count": 15,
     "metadata": {},
     "output_type": "execute_result"
    }
   ],
   "source": [
    "abalone_dataset['Height'] = np.sqrt(abalone_dataset['Height'])\n",
    "abalone_dataset.head()"
   ]
  },
  {
   "cell_type": "code",
   "execution_count": 16,
   "metadata": {},
   "outputs": [
    {
     "data": {
      "text/html": [
       "<div>\n",
       "<style scoped>\n",
       "    .dataframe tbody tr th:only-of-type {\n",
       "        vertical-align: middle;\n",
       "    }\n",
       "\n",
       "    .dataframe tbody tr th {\n",
       "        vertical-align: top;\n",
       "    }\n",
       "\n",
       "    .dataframe thead th {\n",
       "        text-align: right;\n",
       "    }\n",
       "</style>\n",
       "<table border=\"1\" class=\"dataframe\">\n",
       "  <thead>\n",
       "    <tr style=\"text-align: right;\">\n",
       "      <th></th>\n",
       "      <th>Sex</th>\n",
       "      <th>Length</th>\n",
       "      <th>Height</th>\n",
       "      <th>Whole weight</th>\n",
       "      <th>Age</th>\n",
       "    </tr>\n",
       "  </thead>\n",
       "  <tbody>\n",
       "    <tr>\n",
       "      <th>0</th>\n",
       "      <td>M</td>\n",
       "      <td>0.674537</td>\n",
       "      <td>0.308221</td>\n",
       "      <td>0.5140</td>\n",
       "      <td>16.5</td>\n",
       "    </tr>\n",
       "    <tr>\n",
       "      <th>1</th>\n",
       "      <td>M</td>\n",
       "      <td>0.591608</td>\n",
       "      <td>0.300000</td>\n",
       "      <td>0.2255</td>\n",
       "      <td>8.5</td>\n",
       "    </tr>\n",
       "    <tr>\n",
       "      <th>2</th>\n",
       "      <td>F</td>\n",
       "      <td>0.728011</td>\n",
       "      <td>0.367423</td>\n",
       "      <td>0.6770</td>\n",
       "      <td>10.5</td>\n",
       "    </tr>\n",
       "    <tr>\n",
       "      <th>3</th>\n",
       "      <td>M</td>\n",
       "      <td>0.663325</td>\n",
       "      <td>0.353553</td>\n",
       "      <td>0.5160</td>\n",
       "      <td>11.5</td>\n",
       "    </tr>\n",
       "    <tr>\n",
       "      <th>4</th>\n",
       "      <td>I</td>\n",
       "      <td>0.574456</td>\n",
       "      <td>0.282843</td>\n",
       "      <td>0.2050</td>\n",
       "      <td>8.5</td>\n",
       "    </tr>\n",
       "  </tbody>\n",
       "</table>\n",
       "</div>"
      ],
      "text/plain": [
       "  Sex    Length    Height  Whole weight   Age\n",
       "0   M  0.674537  0.308221        0.5140  16.5\n",
       "1   M  0.591608  0.300000        0.2255   8.5\n",
       "2   F  0.728011  0.367423        0.6770  10.5\n",
       "3   M  0.663325  0.353553        0.5160  11.5\n",
       "4   I  0.574456  0.282843        0.2050   8.5"
      ]
     },
     "execution_count": 16,
     "metadata": {},
     "output_type": "execute_result"
    }
   ],
   "source": [
    "abalone_dataset['Length'] = np.sqrt(abalone_dataset['Length'])\n",
    "abalone_dataset.head()"
   ]
  },
  {
   "cell_type": "code",
   "execution_count": 17,
   "metadata": {},
   "outputs": [
    {
     "data": {
      "text/html": [
       "<div>\n",
       "<style scoped>\n",
       "    .dataframe tbody tr th:only-of-type {\n",
       "        vertical-align: middle;\n",
       "    }\n",
       "\n",
       "    .dataframe tbody tr th {\n",
       "        vertical-align: top;\n",
       "    }\n",
       "\n",
       "    .dataframe thead th {\n",
       "        text-align: right;\n",
       "    }\n",
       "</style>\n",
       "<table border=\"1\" class=\"dataframe\">\n",
       "  <thead>\n",
       "    <tr style=\"text-align: right;\">\n",
       "      <th></th>\n",
       "      <th>Length</th>\n",
       "      <th>Height</th>\n",
       "      <th>Whole weight</th>\n",
       "      <th>Age</th>\n",
       "      <th>Sex_F</th>\n",
       "      <th>Sex_I</th>\n",
       "      <th>Sex_M</th>\n",
       "    </tr>\n",
       "  </thead>\n",
       "  <tbody>\n",
       "    <tr>\n",
       "      <th>0</th>\n",
       "      <td>0.674537</td>\n",
       "      <td>0.308221</td>\n",
       "      <td>0.5140</td>\n",
       "      <td>16.5</td>\n",
       "      <td>0</td>\n",
       "      <td>0</td>\n",
       "      <td>1</td>\n",
       "    </tr>\n",
       "    <tr>\n",
       "      <th>1</th>\n",
       "      <td>0.591608</td>\n",
       "      <td>0.300000</td>\n",
       "      <td>0.2255</td>\n",
       "      <td>8.5</td>\n",
       "      <td>0</td>\n",
       "      <td>0</td>\n",
       "      <td>1</td>\n",
       "    </tr>\n",
       "    <tr>\n",
       "      <th>2</th>\n",
       "      <td>0.728011</td>\n",
       "      <td>0.367423</td>\n",
       "      <td>0.6770</td>\n",
       "      <td>10.5</td>\n",
       "      <td>1</td>\n",
       "      <td>0</td>\n",
       "      <td>0</td>\n",
       "    </tr>\n",
       "    <tr>\n",
       "      <th>3</th>\n",
       "      <td>0.663325</td>\n",
       "      <td>0.353553</td>\n",
       "      <td>0.5160</td>\n",
       "      <td>11.5</td>\n",
       "      <td>0</td>\n",
       "      <td>0</td>\n",
       "      <td>1</td>\n",
       "    </tr>\n",
       "    <tr>\n",
       "      <th>4</th>\n",
       "      <td>0.574456</td>\n",
       "      <td>0.282843</td>\n",
       "      <td>0.2050</td>\n",
       "      <td>8.5</td>\n",
       "      <td>0</td>\n",
       "      <td>1</td>\n",
       "      <td>0</td>\n",
       "    </tr>\n",
       "  </tbody>\n",
       "</table>\n",
       "</div>"
      ],
      "text/plain": [
       "     Length    Height  Whole weight   Age  Sex_F  Sex_I  Sex_M\n",
       "0  0.674537  0.308221        0.5140  16.5      0      0      1\n",
       "1  0.591608  0.300000        0.2255   8.5      0      0      1\n",
       "2  0.728011  0.367423        0.6770  10.5      1      0      0\n",
       "3  0.663325  0.353553        0.5160  11.5      0      0      1\n",
       "4  0.574456  0.282843        0.2050   8.5      0      1      0"
      ]
     },
     "execution_count": 17,
     "metadata": {},
     "output_type": "execute_result"
    }
   ],
   "source": [
    "abalone_dataset = pd.get_dummies(abalone_dataset, columns=['Sex'], prefix_sep='_')\n",
    "abalone_dataset.head()"
   ]
  },
  {
   "cell_type": "code",
   "execution_count": 18,
   "metadata": {},
   "outputs": [
    {
     "name": "stdout",
     "output_type": "stream",
     "text": [
      "<class 'pandas.core.frame.DataFrame'>\n",
      "Int64Index: 4175 entries, 0 to 4176\n",
      "Data columns (total 7 columns):\n",
      " #   Column        Non-Null Count  Dtype  \n",
      "---  ------        --------------  -----  \n",
      " 0   Length        4175 non-null   float64\n",
      " 1   Height        4175 non-null   float64\n",
      " 2   Whole weight  4175 non-null   float64\n",
      " 3   Age           4175 non-null   float64\n",
      " 4   Sex_F         4175 non-null   uint8  \n",
      " 5   Sex_I         4175 non-null   uint8  \n",
      " 6   Sex_M         4175 non-null   uint8  \n",
      "dtypes: float64(4), uint8(3)\n",
      "memory usage: 304.4 KB\n"
     ]
    }
   ],
   "source": [
    "abalone_dataset.info()"
   ]
  },
  {
   "cell_type": "code",
   "execution_count": 19,
   "metadata": {},
   "outputs": [
    {
     "name": "stdout",
     "output_type": "stream",
     "text": [
      "16.5\n",
      "[ 0.55792149  0.43071232  0.15559935 -0.68373008 -0.68797729  1.3328137 ]\n"
     ]
    }
   ],
   "source": [
    "X = abalone_dataset.drop('Age', axis=1)\n",
    "y = abalone_dataset['Age']\n",
    "\n",
    "X_train, X_test, y_train, y_test = train_test_split(X, y, test_size=0.2, random_state=42)\n",
    "\n",
    "sc = StandardScaler()\n",
    "sc.fit(X_train)\n",
    "\n",
    "X_train_std = sc.transform(X_train)\n",
    "X_test_std = sc.transform(X_test)\n",
    "X_train_std = pd.DataFrame(X_train_std, columns=X_train.columns)\n",
    "X_test_std = pd.DataFrame(X_test_std, columns=X_train.columns)\n",
    "\n",
    "X_train = X_train_std.values\n",
    "X_test = X_test_std.values\n",
    "y_train = y_train.values\n",
    "y_test = y_test.values\n",
    "\n",
    "\n",
    "print(y_test[0])\n",
    "print(X_test[0])"
   ]
  },
  {
   "cell_type": "code",
   "execution_count": 21,
   "metadata": {},
   "outputs": [
    {
     "ename": "ValueError",
     "evalue": "Unknown label type: 'continuous'",
     "output_type": "error",
     "traceback": [
      "\u001b[0;31m---------------------------------------------------------------------------\u001b[0m",
      "\u001b[0;31mValueError\u001b[0m                                Traceback (most recent call last)",
      "\u001b[0;32m<ipython-input-21-eac18e2aba13>\u001b[0m in \u001b[0;36m<module>\u001b[0;34m\u001b[0m\n\u001b[1;32m      1\u001b[0m \u001b[0mmodel\u001b[0m \u001b[0;34m=\u001b[0m \u001b[0mLogisticRegression\u001b[0m\u001b[0;34m(\u001b[0m\u001b[0mC\u001b[0m\u001b[0;34m=\u001b[0m\u001b[0;36m1000\u001b[0m\u001b[0;34m,\u001b[0m \u001b[0msolver\u001b[0m\u001b[0;34m=\u001b[0m\u001b[0;34m'newton-cg'\u001b[0m\u001b[0;34m)\u001b[0m\u001b[0;34m\u001b[0m\u001b[0;34m\u001b[0m\u001b[0m\n\u001b[0;32m----> 2\u001b[0;31m \u001b[0mmodel\u001b[0m\u001b[0;34m.\u001b[0m\u001b[0mfit\u001b[0m\u001b[0;34m(\u001b[0m\u001b[0mX_train\u001b[0m\u001b[0;34m,\u001b[0m \u001b[0my_train\u001b[0m\u001b[0;34m)\u001b[0m\u001b[0;34m\u001b[0m\u001b[0;34m\u001b[0m\u001b[0m\n\u001b[0m\u001b[1;32m      3\u001b[0m \u001b[0my_pred\u001b[0m \u001b[0;34m=\u001b[0m \u001b[0mmodel\u001b[0m\u001b[0;34m.\u001b[0m\u001b[0mpredict\u001b[0m\u001b[0;34m(\u001b[0m\u001b[0mX_test\u001b[0m\u001b[0;34m)\u001b[0m\u001b[0;34m\u001b[0m\u001b[0;34m\u001b[0m\u001b[0m\n\u001b[1;32m      4\u001b[0m \u001b[0;34m\u001b[0m\u001b[0m\n\u001b[1;32m      5\u001b[0m \u001b[0mprint\u001b[0m\u001b[0;34m(\u001b[0m\u001b[0mmean_squared_error\u001b[0m\u001b[0;34m(\u001b[0m\u001b[0my_test\u001b[0m\u001b[0;34m,\u001b[0m \u001b[0my_pred\u001b[0m\u001b[0;34m)\u001b[0m\u001b[0;34m)\u001b[0m\u001b[0;34m\u001b[0m\u001b[0;34m\u001b[0m\u001b[0m\n",
      "\u001b[0;32m~/anaconda3/envs/mlops/lib/python3.8/site-packages/sklearn/linear_model/_logistic.py\u001b[0m in \u001b[0;36mfit\u001b[0;34m(self, X, y, sample_weight)\u001b[0m\n\u001b[1;32m   1345\u001b[0m                                    \u001b[0morder\u001b[0m\u001b[0;34m=\u001b[0m\u001b[0;34m\"C\"\u001b[0m\u001b[0;34m,\u001b[0m\u001b[0;34m\u001b[0m\u001b[0;34m\u001b[0m\u001b[0m\n\u001b[1;32m   1346\u001b[0m                                    accept_large_sparse=solver != 'liblinear')\n\u001b[0;32m-> 1347\u001b[0;31m         \u001b[0mcheck_classification_targets\u001b[0m\u001b[0;34m(\u001b[0m\u001b[0my\u001b[0m\u001b[0;34m)\u001b[0m\u001b[0;34m\u001b[0m\u001b[0;34m\u001b[0m\u001b[0m\n\u001b[0m\u001b[1;32m   1348\u001b[0m         \u001b[0mself\u001b[0m\u001b[0;34m.\u001b[0m\u001b[0mclasses_\u001b[0m \u001b[0;34m=\u001b[0m \u001b[0mnp\u001b[0m\u001b[0;34m.\u001b[0m\u001b[0munique\u001b[0m\u001b[0;34m(\u001b[0m\u001b[0my\u001b[0m\u001b[0;34m)\u001b[0m\u001b[0;34m\u001b[0m\u001b[0;34m\u001b[0m\u001b[0m\n\u001b[1;32m   1349\u001b[0m \u001b[0;34m\u001b[0m\u001b[0m\n",
      "\u001b[0;32m~/anaconda3/envs/mlops/lib/python3.8/site-packages/sklearn/utils/multiclass.py\u001b[0m in \u001b[0;36mcheck_classification_targets\u001b[0;34m(y)\u001b[0m\n\u001b[1;32m    181\u001b[0m     if y_type not in ['binary', 'multiclass', 'multiclass-multioutput',\n\u001b[1;32m    182\u001b[0m                       'multilabel-indicator', 'multilabel-sequences']:\n\u001b[0;32m--> 183\u001b[0;31m         \u001b[0;32mraise\u001b[0m \u001b[0mValueError\u001b[0m\u001b[0;34m(\u001b[0m\u001b[0;34m\"Unknown label type: %r\"\u001b[0m \u001b[0;34m%\u001b[0m \u001b[0my_type\u001b[0m\u001b[0;34m)\u001b[0m\u001b[0;34m\u001b[0m\u001b[0;34m\u001b[0m\u001b[0m\n\u001b[0m\u001b[1;32m    184\u001b[0m \u001b[0;34m\u001b[0m\u001b[0m\n\u001b[1;32m    185\u001b[0m \u001b[0;34m\u001b[0m\u001b[0m\n",
      "\u001b[0;31mValueError\u001b[0m: Unknown label type: 'continuous'"
     ]
    }
   ],
   "source": [
    "model = LogisticRegression(C=1000, solver='newton-cg')\n",
    "model.fit(X_train, y_train)\n",
    "y_pred = model.predict(X_test)\n",
    "\n",
    "print(mean_squared_error(y_test, y_pred))"
   ]
  },
  {
   "cell_type": "code",
   "execution_count": null,
   "metadata": {},
   "outputs": [],
   "source": []
  }
 ],
 "metadata": {
  "interpreter": {
   "hash": "7d4ef9798f9094391790de21885ba75809f109cc27777bee7300b5e6e63901f9"
  },
  "kernelspec": {
   "display_name": "Python 3 (ipykernel)",
   "language": "python",
   "name": "python3"
  },
  "language_info": {
   "codemirror_mode": {
    "name": "ipython",
    "version": 3
   },
   "file_extension": ".py",
   "mimetype": "text/x-python",
   "name": "python",
   "nbconvert_exporter": "python",
   "pygments_lexer": "ipython3",
   "version": "3.8.12"
  }
 },
 "nbformat": 4,
 "nbformat_minor": 4
}
>>>>>>> 2fce6c52416719a1886c38f94fa5761a4850f718
